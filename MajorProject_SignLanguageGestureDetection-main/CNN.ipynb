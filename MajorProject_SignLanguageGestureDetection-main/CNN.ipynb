{
  "nbformat": 4,
  "nbformat_minor": 0,
  "metadata": {
    "colab": {
      "name": "Copy of CNN.ipynb",
      "provenance": []
    },
    "kernelspec": {
      "name": "python3",
      "display_name": "Python 3"
    },
    "language_info": {
      "name": "python"
    }
  },
  "cells": [
    {
      "cell_type": "code",
      "execution_count": null,
      "metadata": {
        "id": "Nr5uwKZFZ0uD"
      },
      "outputs": [],
      "source": [
        "import matplotlib.pyplot as plt\n",
        "import tensorflow as tf\n",
        "import numpy as np\n",
        "import cv2\n",
        "import os\n",
        "import numpy as np\n",
        "from tensorflow.keras.preprocessing import image\n",
        "from tensorflow.keras.preprocessing.image import ImageDataGenerator\n"
      ]
    },
    {
      "cell_type": "code",
      "source": [
        "train= ImageDataGenerator(rescale= 1/255)\n",
        "validation= ImageDataGenerator(rescale= 1/255)\n"
      ],
      "metadata": {
        "id": "CamZZ6r_aXla"
      },
      "execution_count": null,
      "outputs": []
    },
    {
      "cell_type": "code",
      "source": [
        "train_dataset=train.flow_from_directory('/content/drive/MyDrive/Dataset/train',\n",
        "                                       target_size=(200,200),\n",
        "                                        batch_size= 3,\n",
        "                                        )\n",
        "validation_dataset=train.flow_from_directory('/content/drive/MyDrive/Dataset/validation',\n",
        "                                       target_size=(200,200),\n",
        "                                        batch_size= 3,\n",
        "                                        )"
      ],
      "metadata": {
        "id": "2NehuNeSbpiM"
      },
      "execution_count": null,
      "outputs": []
    },
    {
      "cell_type": "code",
      "source": [
        " train_dataset.class_indices"
      ],
      "metadata": {
        "id": "4xOgPKmaedZm"
      },
      "execution_count": null,
      "outputs": []
    },
    {
      "cell_type": "code",
      "source": [
        "train_dataset.classes"
      ],
      "metadata": {
        "id": "POJVBn-sfrzr"
      },
      "execution_count": null,
      "outputs": []
    },
    {
      "cell_type": "code",
      "source": [
        "\n",
        "model= tf.keras.models.Sequential([tf.keras.layers.Conv2D(16,(3,3),activation='relu',input_shape=(200,200,3)),\n",
        "                                   tf.keras.layers.MaxPool2D(2,2),\n",
        "                                   \n",
        "                                   tf.keras.layers.Conv2D(16,(3,3),activation='relu',input_shape=(200,200,3)),\n",
        "                                   tf.keras.layers.MaxPool2D(2,2),\n",
        "\n",
        "                                   tf.keras.layers.Conv2D(16,(3,3),activation='relu',input_shape=(200,200,3)),\n",
        "                                   tf.keras.layers.MaxPool2D(2,2),\n",
        "                                   \n",
        "                                   tf.keras.layers.Flatten(),\n",
        "                                   \n",
        "                                   tf.keras.layers.Dense(512,activation='relu'),\n",
        "                                   \n",
        "                                   tf.keras.layers.Dense(1,activation='softmax')])"
      ],
      "metadata": {
        "id": "6RT57of-f35f"
      },
      "execution_count": null,
      "outputs": []
    },
    {
      "cell_type": "code",
      "source": [
        "\n",
        "tf.keras.optimizers.RMSprop(\n",
        "    learning_rate=0.001)\n",
        "model.compile(loss='categorical_crossentropy',\n",
        "              \n",
        "              \n",
        "              metrics='accuracy')"
      ],
      "metadata": {
        "id": "JZzy2xqWhRoe"
      },
      "execution_count": null,
      "outputs": []
    },
    {
      "cell_type": "code",
      "source": [
        "model_fit= model.fit(train_dataset,\n",
        "                     \n",
        "                     steps_per_epoch=3,\n",
        "                     epochs=30,\n",
        "                     validation_data= validation_dataset\n",
        "                     )"
      ],
      "metadata": {
        "id": "Fo4uZlS6jQLr"
      },
      "execution_count": null,
      "outputs": []
    },
    {
      "cell_type": "code",
      "source": [
        "validation_dataset.class_indices"
      ],
      "metadata": {
        "id": "NjmYb9THlIc3"
      },
      "execution_count": null,
      "outputs": []
    },
    {
      "cell_type": "code",
      "source": [
        "dir_path= '/content/drive/MyDrive/Dataset/test'"
      ],
      "metadata": {
        "id": "c47fhdzEpX7F"
      },
      "execution_count": null,
      "outputs": []
    },
    {
      "cell_type": "code",
      "source": [
        "\n",
        "for i in os.listdir(dir_path):\n",
        "  img= image.load_img(dir_path+'//'+i,target_size=(200,200))\n",
        "  plt.imshow(img)\n",
        "  plt.show()\n",
        "  x=image.img_to_array(img)\n",
        "  x=np.expand_dims(x, axis=0)\n",
        "  images=np.vstack([x])\n",
        "  val= model.predict(images)\n",
        "  a=max(max(val))\n",
        "  b=np.argmax(val)\n",
        "  if b==0:\n",
        "    print(\"Hello\")\n",
        "  elif b==1:\n",
        "    print(\"Help\")\n",
        "  elif b==2:\n",
        "    print(\"I love you\")\n",
        "  elif b==3:\n",
        "    print(\"No\")\n",
        "  elif b==4:\n",
        "    print(\"Please\")\n",
        "  elif b==5:\n",
        "    print(\"Sorry\")\n",
        "  elif b==6:\n",
        "    print(\"Thank you\")\n",
        "  elif b==7:\n",
        "    print(\"Yes\")\n"
      ],
      "metadata": {
        "id": "E4NkAeUWrB_b"
      },
      "execution_count": null,
      "outputs": []
    },
    {
      "cell_type": "code",
      "source": [
        ""
      ],
      "metadata": {
        "id": "SrUOhKkWrqeW"
      },
      "execution_count": null,
      "outputs": []
    }
  ]
}