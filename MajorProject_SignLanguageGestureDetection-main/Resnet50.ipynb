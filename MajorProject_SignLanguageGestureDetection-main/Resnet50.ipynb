{
  "nbformat": 4,
  "nbformat_minor": 0,
  "metadata": {
    "colab": {
      "name": "Copy of Resnet50.ipynb",
      "provenance": []
    },
    "kernelspec": {
      "name": "python3",
      "display_name": "Python 3"
    },
    "language_info": {
      "name": "python"
    }
  },
  "cells": [
    {
      "cell_type": "code",
      "execution_count": null,
      "metadata": {
        "id": "Nr5uwKZFZ0uD"
      },
      "outputs": [],
      "source": [
        "import matplotlib.pyplot as plt\n",
        "import tensorflow as tf\n",
        "import numpy as np\n",
        "import cv2\n",
        "import os\n",
        "import numpy as np\n",
        "from tensorflow.keras.preprocessing import image\n",
        "from tensorflow.keras.preprocessing.image import ImageDataGenerator,load_img\n"
      ]
    },
    {
      "cell_type": "code",
      "source": [
        "from tensorflow.keras.layers import Conv2D,Flatten,Dense,MaxPool2D,BatchNormalization, GlobalAveragePooling2D\n",
        "from tensorflow.keras.applications.resnet50 import preprocess_input, decode_predictions\n",
        "from tensorflow.keras.applications.resnet50 import ResNet50\n",
        "from tensorflow.keras.models import Sequential\n",
        "from tensorflow.keras.models import Model\n"
      ],
      "metadata": {
        "id": "CamZZ6r_aXla"
      },
      "execution_count": null,
      "outputs": []
    },
    {
      "cell_type": "code",
      "source": [
        "img_height, img_width=(224,224)\n",
        "batch_size=5\n",
        "\n",
        "train_data_dir = f\"/content/drive/MyDrive/Dataset/train\"\n",
        "valid_data_dir = f\"/content/drive/MyDrive/Dataset/validation\"\n",
        "test_data_dir = f\"/content/drive/MyDrive/Dataset/test\""
      ],
      "metadata": {
        "id": "ikgTaPVJFGaT"
      },
      "execution_count": null,
      "outputs": []
    },
    {
      "cell_type": "code",
      "source": [
        "train_datagen = ImageDataGenerator(\n",
        "    preprocessing_function=preprocess_input,\n",
        "    shear_range=0.2,\n",
        "    zoom_range=0.2,\n",
        "    horizontal_flip=True)\n",
        "\n",
        "test_datagen = ImageDataGenerator(\n",
        "    preprocessing_function=preprocess_input)\n",
        "\n",
        "\n",
        "train_generator = train_datagen.flow_from_directory(\n",
        "    train_data_dir,\n",
        "    target_size=(img_height, img_width),\n",
        "    batch_size=batch_size,\n",
        "    class_mode=\"categorical\")\n",
        "\n",
        "valid_generator = train_datagen.flow_from_directory(\n",
        "    valid_data_dir,\n",
        "    target_size=(img_height, img_width),\n",
        "    batch_size=batch_size,\n",
        "    class_mode=\"categorical\")"
      ],
      "metadata": {
        "id": "WaTdfnQHIwCn"
      },
      "execution_count": null,
      "outputs": []
    },
    {
      "cell_type": "code",
      "source": [
        "'''test_generator = test_datagen.flow_from_directory(\n",
        "    test_data_dir,\n",
        "    target_size=(img_height, img_width),\n",
        "    batch_size=1,\n",
        "    class_mode=\"categorical\")'''"
      ],
      "metadata": {
        "id": "7SxoxWVaIwpK"
      },
      "execution_count": null,
      "outputs": []
    },
    {
      "cell_type": "code",
      "source": [
        "EPOCHS = 5\n",
        "\n",
        "base_model = ResNet50(include_top=False, weights=\"imagenet\")\n",
        "\n",
        "x = base_model.output\n",
        "x = GlobalAveragePooling2D()(x)\n",
        "x = Dense(1024, activation=\"relu\")(x)\n",
        "\n",
        "predictions = Dense(train_generator.num_classes, activation=\"softmax\")(x)\n",
        "model = Model(inputs=base_model.input, outputs=predictions)\n",
        "\n",
        "for layer in base_model.layers:\n",
        "    layer.trainable = False\n",
        "    \n",
        "model.compile(\n",
        "    optimizer=\"adam\",\n",
        "    loss=\"categorical_crossentropy\",\n",
        "    metrics=[\"acc\"])\n",
        "history = model.fit(train_generator,\n",
        "                    validation_data=valid_generator,\n",
        "                    epochs=EPOCHS)"
      ],
      "metadata": {
        "id": "qVJGwDkVIw74"
      },
      "execution_count": null,
      "outputs": []
    },
    {
      "cell_type": "code",
      "source": [
        ""
      ],
      "metadata": {
        "id": "akqHHwaSK8uP"
      },
      "execution_count": null,
      "outputs": []
    },
    {
      "cell_type": "code",
      "source": [
        "'''train_dataset=train.flow_from_directory('/content/drive/MyDrive/Sample dataset/train',\n",
        "                                       target_size=(200,200),\n",
        "                                        batch_size= 3,\n",
        "                                       )\n",
        "validation_dataset=train.flow_from_directory('/content/drive/MyDrive/Sample dataset/validation',\n",
        "                                       target_size=(200,200),\n",
        "                                        batch_size= 3,\n",
        "                                        )'''"
      ],
      "metadata": {
        "id": "2NehuNeSbpiM"
      },
      "execution_count": null,
      "outputs": []
    },
    {
      "cell_type": "code",
      "source": [
        "#train_dataset.class_indices\n"
      ],
      "metadata": {
        "id": "4xOgPKmaedZm"
      },
      "execution_count": null,
      "outputs": []
    },
    {
      "cell_type": "code",
      "source": [
        "#train_dataset.classes"
      ],
      "metadata": {
        "id": "POJVBn-sfrzr"
      },
      "execution_count": null,
      "outputs": []
    },
    {
      "cell_type": "code",
      "source": [
        "\n",
        "'''model= tf.keras.models.Sequential([tf.keras.layers.Conv2D(16,(3,3),activation='relu',input_shape=(200,200,3)),\n",
        "                                   tf.keras.layers.MaxPool2D(2,2),\n",
        "                                   \n",
        "                                   tf.keras.layers.Conv2D(16,(3,3),activation='relu',input_shape=(200,200,3)),\n",
        "                                   \n",
        "                                   tf.keras.layers.MaxPool2D(2,2),\n",
        "\n",
        "                    \n",
        "                                   tf.keras.layers.Conv2D(16,(3,3),activation='relu',input_shape=(200,200,3)),\n",
        "                                   \n",
        "                                   tf.keras.layers.MaxPool2D(2,2),\n",
        "                                   \n",
        "                                   tf.keras.layers.Flatten(),\n",
        "                                   \n",
        "                                   tf.keras.layers.Dense(512,activation='relu'),\n",
        "                                   \n",
        "                                   tf.keras.layers.Dense(1,activation='sigmoid')])'''"
      ],
      "metadata": {
        "id": "6RT57of-f35f"
      },
      "execution_count": null,
      "outputs": []
    },
    {
      "cell_type": "code",
      "source": [
        "'''\n",
        "tf.keras.optimizers.RMSprop(\n",
        "    learning_rate=0.001)\n",
        "model.compile(loss='binary_crossentropy',\n",
        "              metrics='accuracy')'''"
      ],
      "metadata": {
        "id": "JZzy2xqWhRoe"
      },
      "execution_count": null,
      "outputs": []
    },
    {
      "cell_type": "code",
      "source": [
        "'''model_fit= model.fit(train_dataset,\n",
        "                     \n",
        "                     steps_per_epoch=3,\n",
        "                     epochs=1,\n",
        "                     validation_data= validation_dataset\n",
        "                     )'''"
      ],
      "metadata": {
        "id": "Fo4uZlS6jQLr"
      },
      "execution_count": null,
      "outputs": []
    },
    {
      "cell_type": "code",
      "source": [
        "#validation_dataset.class_indices"
      ],
      "metadata": {
        "id": "NjmYb9THlIc3"
      },
      "execution_count": null,
      "outputs": []
    },
    {
      "cell_type": "code",
      "source": [
        "#dir_path= '/content/drive/MyDrive/Sample dataset/test'"
      ],
      "metadata": {
        "id": "c47fhdzEpX7F"
      },
      "execution_count": null,
      "outputs": []
    },
    {
      "cell_type": "code",
      "source": [
        "for i in os.listdir(test_data_dir):\n",
        "  img = image.load_img(test_data_dir+'//'+i,target_size=(224,224))\n",
        "  plt.imshow(img)\n",
        "  plt.show()\n",
        "  x=image.img_to_array(img)\n",
        "  x=np.expand_dims(x, axis=0)\n",
        "  images=np.vstack([x])\n",
        "  val= model.predict(images)\n",
        "  \n",
        "  \n",
        "  a=max(max(val))\n",
        "  b=np.argmax(val)\n",
        "  if b==0:\n",
        "    print(\"Hello\")\n",
        "  elif b==1:\n",
        "    print(\"Help\")\n",
        "  elif b==2:\n",
        "    print(\"I love you\")\n",
        "  elif b==3:\n",
        "    print(\"No\")\n",
        "  elif b==4:\n",
        "    print(\"Please\")\n",
        "  elif b==5:\n",
        "    print(\"Sorry\")\n",
        "  elif b==6:\n",
        "    print(\"Thank you\")\n",
        "  elif b==7:\n",
        "    print(\"Yes\")"
      ],
      "metadata": {
        "id": "E4NkAeUWrB_b"
      },
      "execution_count": null,
      "outputs": []
    },
    {
      "cell_type": "code",
      "source": [
        "test_acc, test_loss= model.evaluate(test_generator, verbose=2)\n",
        "print(test_acc)"
      ],
      "metadata": {
        "id": "SrUOhKkWrqeW"
      },
      "execution_count": null,
      "outputs": []
    },
    {
      "cell_type": "code",
      "source": [
        "model.save('/content/drive/MyDrive/Dataset/ResNet50.h5')"
      ],
      "metadata": {
        "id": "HgYcGHxDcdXz"
      },
      "execution_count": null,
      "outputs": []
    },
    {
      "cell_type": "code",
      "source": [
        ""
      ],
      "metadata": {
        "id": "-1CqEviCeu9S"
      },
      "execution_count": null,
      "outputs": []
    }
  ]
}